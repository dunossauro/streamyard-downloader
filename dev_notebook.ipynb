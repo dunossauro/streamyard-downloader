{
 "cells": [
  {
   "cell_type": "code",
   "execution_count": 1,
   "metadata": {},
   "outputs": [],
   "source": [
    "from streamyard_down.down_streamyard import StreamYardDownload\n",
    "import streamyard_down.config as cfg\n",
    "cfg.FILTER_DATE\n",
    "import re"
   ]
  },
  {
   "cell_type": "code",
   "execution_count": 2,
   "metadata": {},
   "outputs": [
    {
     "output_type": "stream",
     "name": "stderr",
     "text": [
      "2020-11-17 12:47:39.623 | INFO     | streamyard_down.down_streamyard:create_session:21 - Criando Sessão\n"
     ]
    }
   ],
   "source": [
    "streamyardown = StreamYardDownload()"
   ]
  },
  {
   "cell_type": "code",
   "execution_count": 3,
   "metadata": {},
   "outputs": [
    {
     "output_type": "stream",
     "name": "stderr",
     "text": [
      "2020-11-17 12:47:42.409 | INFO     | streamyard_down.down_streamyard:login:80 - Acessando StreamYard\n",
      "2020-11-17 12:47:42.417 | INFO     | streamyard_down.down_streamyard:get_cookie:53 - Carregando Cookie\n",
      "2020-11-17 12:47:43.083 | INFO     | streamyard_down.down_streamyard:request_code:62 - Requisitando Código\n",
      "2020-11-17 12:47:43.607 | INFO     | streamyard_down.down_streamyard:read_email_code:72 - Carregando Cookie\n"
     ]
    }
   ],
   "source": [
    "streamyardown.login()"
   ]
  }
 ],
 "metadata": {
  "kernelspec": {
   "name": "python3",
   "display_name": "Python 3.7.4 64-bit ('streamyard')",
   "metadata": {
    "interpreter": {
     "hash": "dd8668fd8521b8846c395f23e1381bdcd70ac390c678c20fcdca7bda3657d390"
    }
   }
  },
  "language_info": {
   "codemirror_mode": {
    "name": "ipython",
    "version": 3
   },
   "file_extension": ".py",
   "mimetype": "text/x-python",
   "name": "python",
   "nbconvert_exporter": "python",
   "pygments_lexer": "ipython3",
   "version": "3.7.4-final"
  }
 },
 "nbformat": 4,
 "nbformat_minor": 4
}