{
 "cells": [
  {
   "cell_type": "code",
   "execution_count": 1,
   "metadata": {},
   "outputs": [],
   "source": [
    "from src.down_streamyard import StreamYardDownload\n",
    "import src.config as cfg\n",
    "cfg.FILTER_DATE\n",
    "import re"
   ]
  },
  {
   "cell_type": "code",
   "execution_count": 2,
   "metadata": {},
   "outputs": [
    {
     "name": "stderr",
     "output_type": "stream",
     "text": [
      "2020-11-09 19:43:46.957 | INFO     | src.down_streamyard:create_session:21 - Criando Sessão\n"
     ]
    }
   ],
   "source": [
    "streamyardown = StreamYardDownload()"
   ]
  },
  {
   "cell_type": "code",
   "execution_count": null,
   "metadata": {},
   "outputs": [],
   "source": [
    "test_yard.login()"
   ]
  },
  {
   "cell_type": "code",
   "execution_count": 4,
   "metadata": {},
   "outputs": [
    {
     "name": "stderr",
     "output_type": "stream",
     "text": [
      "2020-11-09 19:22:03.051 | INFO     | src.down_streamyard:list_past_broadcast:91 - Carregando Broadcast\n"
     ]
    }
   ],
   "source": [
    "broadcasts = test_yard.list_past_broadcast()"
   ]
  },
  {
   "cell_type": "code",
   "execution_count": 5,
   "metadata": {},
   "outputs": [],
   "source": [
    "import pandas as pd"
   ]
  },
  {
   "cell_type": "code",
   "execution_count": null,
   "metadata": {},
   "outputs": [],
   "source": [
    "stream_df = pd.DataFrame(broadcasts)\n",
    "columns = ['date','id','title',]\n",
    "stream_df['date'] = pd.to_datetime(stream_df.startedAt).dt.tz_convert('America/Sao_Paulo').dt.date\n",
    "stream_df = stream_df[columns]\n",
    "stream_json = stream_df.query('date == @cfg.FILTER_DATE').to_dict(orient='records')\n",
    "stream_json"
   ]
  },
  {
   "cell_type": "code",
   "execution_count": null,
   "metadata": {},
   "outputs": [],
   "source": [
    "test_yard.download_broadcast(broadcast_to_download[0])"
   ]
  },
  {
   "cell_type": "code",
   "execution_count": null,
   "metadata": {},
   "outputs": [],
   "source": [
    "streamyardown.start_download()"
   ]
  }
 ],
 "metadata": {
  "kernelspec": {
   "display_name": "streamyard",
   "language": "python",
   "name": "streamyard"
  },
  "language_info": {
   "codemirror_mode": {
    "name": "ipython",
    "version": 3
   },
   "file_extension": ".py",
   "mimetype": "text/x-python",
   "name": "python",
   "nbconvert_exporter": "python",
   "pygments_lexer": "ipython3",
   "version": "3.7.4"
  }
 },
 "nbformat": 4,
 "nbformat_minor": 4
}
